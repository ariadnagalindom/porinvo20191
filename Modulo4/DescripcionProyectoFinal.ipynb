{
 "cells": [
  {
   "cell_type": "markdown",
   "metadata": {},
   "source": [
    "<img style=\"float: right; margin: 0px 0px 15px 15px;\" src=\"https://upload.wikimedia.org/wikipedia/commons/b/b6/Proyecto_en_construccion.jpg\" width=\"300px\" height=\"100px\" />\n",
    "\n",
    "\n",
    "# Guía proyecto final. Portafolios de inversión.\n",
    "> En este archivo se especifican los diferentes proyectos propuestos para el fin de curso. Además, se detallan los componentes básicos que deberá tener cada proyecto."
   ]
  },
  {
   "cell_type": "markdown",
   "metadata": {},
   "source": [
    "## 1. Proyectos propuestos.\n",
    "Si ustedes tienen otra propuesta de proyecto, se pueden acercar a mi para discutir su factibilidad\n",
    "\n",
    "### 1.1 Selección de portafolios mediante simulación montecarlo.\n",
    "> A lo largo del curso hemos visto cómo se plantea y se lleva a cabo la selección de portafolios mediante problemas formales de optimización. Vimos que se podía seleccionar el portafolio de mejor sharpe, mínima varianza o máximo rendimiento. Sin embargo, todos estos casos caen en una región que llamamos frontera eficiente...\n",
    "\n",
    "> La idea de usar métodos montecarlo, es generar una gran cantidad de portafolios aleatoriamente sobre la región factible del problema de optimización (es decir, cumpliendo todas las restricciones), y aproximar la solución seleccionando uno de esos portafolios generados. Cuando el número de activos es muy grande, los métodos montecarlo pueden proveer una solución aproximada computacionalmente más eficiente que resolver formalmente el problema de optimización.\n",
    "\n",
    "> El objetivo de este proyecto es llevar a cabo una selección de portafolios usando montecarlo y comparar con los resultados obtenidos mediante optimización.\n",
    "\n",
    "### 1.2 Análisis de estilo.\n",
    "> El análisis de estilo es una herramienta poderosa y sofisticada para medir qué tan bueno es un administrador de portafolios. Básicamente es un análisis de varianza que ayuda a analizar a qué estilo obedecen los cambios en el rendimiento del portafolio. Entre los diferentes estilos de inversión están:\n",
    "- Compañías de alta capitalización desarrolladas,\n",
    "- Compañías de alta capitalización orientadas al mercado,\n",
    "- Compañías de alta capitalización en crecimiento,\n",
    "- ...\n",
    "- Compañías de baja capitalización en crecimiento.\n",
    "\n",
    "> El objetivo es tomar datos de ciertos portafolios ya establecidos en el mercado y llevar a cabo análisis de estilo para explicar a qué obedecen los cambios en los rendimientos de dichos portafolios."
   ]
  },
  {
   "cell_type": "markdown",
   "metadata": {},
   "source": [
    "## 2. Entregable.\n",
    "Los trabajos deben tener los siguientes componentes básicos.\n",
    "\n",
    "### 2.1 Título del trabajo.\n",
    "> Debe describir el trabajo.\n",
    "\n",
    "### 2.2 Objetivos.\n",
    "> - Se refieren a los propósitos por los cuales se hace el trabajo.\n",
    "> - Deben ser concretos, evaluables y verificables.\n",
    "> - Deben ser escritos en infinitivo.\n",
    "> #### 1.1 Objetivo general.\n",
    ">  - Fin último de estudio. Se formula atendiendo el propósito global del trabajo. No presenta detalles.\n",
    ">  - Se orienta a la totalidad del trabajo. Tiene que ver con el título del trabajo.\n",
    "> #### 1.2 Objetivos específicos\n",
    ">  - De forma detallada describen cada una de los componentes del trabajo.\n",
    ">  - En conjunto garantizan la consecución del objetivo general.\n",
    "\n",
    "Referencia:\n",
    "- https://es.slideshare.net/rosbur/metodologia-objetivos-generales-y-especficos\n",
    "\n",
    "### 2.3 Descripción del proyecto.\n",
    "> Descripción detallada del proyecto, incluyendo motivación, antecedentes (ojo, con mínimo 5 referencias bibliográficas de calidad) y un resumen.\n",
    "\n",
    "### 2.4 Solución de la problemática planteada.\n",
    "> Código que resuelve el problema.\n",
    "\n",
    "### 2.5 Visualización de resultados.\n",
    "> Se deben mostrar gráficas que ilustren de forma adecuada los resultados.\n",
    "\n",
    "### 2.6 Conclusiones.\n",
    "> Mucho cuidado, las conclusiones no son cualquier cosa. Se debe concluir respecto a los objetivos planteados de acuerdo a los resultados obtenidos.\n",
    "\n",
    "### 2.7 Referencias.\n",
    "> Citar (en formato APA, IEEE, Vancouver, el que les guste) la bibliografía utilizada."
   ]
  },
  {
   "cell_type": "markdown",
   "metadata": {},
   "source": [
    "___\n",
    "## 3. Especificaciones adicionales.\n",
    "Equipos de tres integrantes.\n",
    "\n",
    "### 3.1 Notebook de jupyter.\n",
    "> Los anteriores numerales los deben desarrollar todos en un notebook de jupyter y llamarlo de la siguiente manera `ProyectoFinal_ApellidoN1_ApellidoN2_ApellidoN3`, donde `ApellidoNi` hace referencia al apellido materno y la inicial del primer nombre del integrante `i`.\n",
    "\n",
    "> Tengan en cuenta que el notebook lo utilizarán para la presentación, entonces háganlo lo más presentable posible.\n",
    "\n",
    "> - Presentación: 10 minutos.\n",
    "> - Seguir estas recomendaciones: https://es.slideshare.net/MeireComputacion/power-point-pautas-para-una-buen-trabajo"
   ]
  },
  {
   "cell_type": "markdown",
   "metadata": {},
   "source": [
    "<script>\n",
    "  $(document).ready(function(){\n",
    "    $('div.prompt').hide();\n",
    "    $('div.back-to-top').hide();\n",
    "    $('nav#menubar').hide();\n",
    "    $('.breadcrumb').hide();\n",
    "    $('.hidden-print').hide();\n",
    "  });\n",
    "</script>\n",
    "\n",
    "<footer id=\"attribution\" style=\"float:right; color:#808080; background:#fff;\">\n",
    "Created with Jupyter by Esteban Jiménez Rodríguez.\n",
    "</footer>"
   ]
  }
 ],
 "metadata": {
  "kernelspec": {
   "display_name": "Python 3",
   "language": "python",
   "name": "python3"
  },
  "language_info": {
   "codemirror_mode": {
    "name": "ipython",
    "version": 3
   },
   "file_extension": ".py",
   "mimetype": "text/x-python",
   "name": "python",
   "nbconvert_exporter": "python",
   "pygments_lexer": "ipython3",
   "version": "3.7.3"
  }
 },
 "nbformat": 4,
 "nbformat_minor": 2
}
